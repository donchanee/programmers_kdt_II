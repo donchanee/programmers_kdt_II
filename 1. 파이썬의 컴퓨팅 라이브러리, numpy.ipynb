{
  "nbformat": 4,
  "nbformat_minor": 0,
  "metadata": {
    "kernelspec": {
      "display_name": "Python 3",
      "language": "python",
      "name": "python3"
    },
    "language_info": {
      "codemirror_mode": {
        "name": "ipython",
        "version": 3
      },
      "file_extension": ".py",
      "mimetype": "text/x-python",
      "name": "python",
      "nbconvert_exporter": "python",
      "pygments_lexer": "ipython3",
      "version": "3.9.0"
    },
    "colab": {
      "name": "1. 파이썬의 컴퓨팅 라이브러리, numpy.ipynb",
      "provenance": [],
      "include_colab_link": true
    }
  },
  "cells": [
    {
      "cell_type": "markdown",
      "metadata": {
        "id": "view-in-github",
        "colab_type": "text"
      },
      "source": [
        "<a href=\"https://colab.research.google.com/github/donchanee/programmers_kdt_II/blob/week3/1.%20%ED%8C%8C%EC%9D%B4%EC%8D%AC%EC%9D%98%20%EC%BB%B4%ED%93%A8%ED%8C%85%20%EB%9D%BC%EC%9D%B4%EB%B8%8C%EB%9F%AC%EB%A6%AC%2C%20numpy.ipynb\" target=\"_parent\"><img src=\"https://colab.research.google.com/assets/colab-badge.svg\" alt=\"Open In Colab\"/></a>"
      ]
    },
    {
      "cell_type": "markdown",
      "metadata": {
        "id": "xrKLd0MKPZxp"
      },
      "source": [
        "# 1. 파이썬의 컴퓨팅 라이브러리, numpy\n",
        "**numpy를 이용해서 데이터를 다뤄봅시다!**"
      ]
    },
    {
      "cell_type": "markdown",
      "metadata": {
        "id": "CPyiZ6vSPZxt"
      },
      "source": [
        "### Our Goal\n",
        "1. Numpy 시작하기\n",
        "    - prerequisite : Python의 List\n",
        "    - numpy import하기\n",
        "    - numpy.array\n",
        "\n",
        "2. Numpy로 연산하기\n",
        "    - Vector - Scalar : elementwise! (+, -, *, /)\n",
        "    - Vector - Vector : elementwise / broadcasting (+, -, *, /)\n",
        "    - Indexing & Slicing\n",
        "3. Example : Linear Algebra with Numpy\n",
        "    1. basics\n",
        "    - 영벡터 : `.zeros()`\n",
        "    - 일벡터 : `.ones()`\n",
        "    - 대각행렬 : `.diag()`\n",
        "    - 항등행렬 : `.eye()`\n",
        "    - 행렬곱 : `@` / `.dot()`\n",
        "  \n",
        "    2. furthermore\n",
        "    - 트레이스 : `.trace()`\n",
        "    - 행렬식 : `.linalg.det()`\n",
        "    - 역행렬 : `.linalg.inv()`\n",
        "    - 고유값 : `.linalg.eig()`\n"
      ]
    },
    {
      "cell_type": "markdown",
      "metadata": {
        "id": "l1bFYxNAPZxu"
      },
      "source": [
        "## I. Numpy 시작하기"
      ]
    },
    {
      "cell_type": "markdown",
      "metadata": {
        "id": "wvxeN9SOPZxu"
      },
      "source": [
        "## II. Numpy로 연산하기"
      ]
    },
    {
      "cell_type": "markdown",
      "metadata": {
        "id": "AJNdOfX8PZxu"
      },
      "source": [
        "## III. Numpy로 선형대수 지식 끼얹기"
      ]
    },
    {
      "cell_type": "markdown",
      "metadata": {
        "id": "IV7dFWhtPZxu"
      },
      "source": [
        "## IV. Mission:"
      ]
    },
    {
      "cell_type": "markdown",
      "metadata": {
        "id": "KOY1Q4HnPZxu"
      },
      "source": [
        "### 1. 어떤 벡터가 주어졌을 때 L2 norm을 구하는 함수 `get_L2_norm()`을 작성하세요\n",
        "\n",
        "- **매개변수** : 1차원 벡터 (`np.array`)\n",
        "- **반환값** : 인자로 주어진 벡터의 L2 Norm값 (`number`)"
      ]
    },
    {
      "cell_type": "code",
      "metadata": {
        "id": "dy7pWkA5PZxv",
        "outputId": "6eef7702-9088-4844-81b9-7d3a83f97b2b",
        "colab": {
          "base_uri": "https://localhost:8080/"
        }
      },
      "source": [
        "from math import sqrt\r\n",
        "\r\n",
        "def get_L2_norm(vec):\r\n",
        "  return sqrt(sum([x*x for x in vec]))\r\n",
        "\r\n",
        "print(get_L2_norm([8,6,9]))"
      ],
      "execution_count": 12,
      "outputs": [
        {
          "output_type": "stream",
          "text": [
            "13.45362404707371\n"
          ],
          "name": "stdout"
        }
      ]
    },
    {
      "cell_type": "markdown",
      "metadata": {
        "id": "KQBy_WcIPZxv"
      },
      "source": [
        "### 2. 어떤 행렬이 singular matrix인지 확인하는 함수 `is_singular()` 를 작성하세요\n",
        "\n",
        "- 매개변수 : 2차원 벡터(`np.array`)\n",
        "- 반환값 : 인자로 주어진 벡터가 singular하면 True, non-singular하면 False를 반환 "
      ]
    },
    {
      "cell_type": "code",
      "metadata": {
        "id": "_XfULDxNPZxv",
        "outputId": "ab27f468-eb0e-4d51-8794-a491251650eb",
        "colab": {
          "base_uri": "https://localhost:8080/"
        }
      },
      "source": [
        "import numpy as np\r\n",
        "\r\n",
        "def is_singular(arr):\r\n",
        "  return False if np.linalg.det(arr) else True\r\n",
        "\r\n",
        "print(is_singular([[1,1],[2,2]]))\r\n",
        "print(is_singular([[1,2],[2,2]]))"
      ],
      "execution_count": 24,
      "outputs": [
        {
          "output_type": "stream",
          "text": [
            "True\n",
            "False\n"
          ],
          "name": "stdout"
        }
      ]
    },
    {
      "cell_type": "code",
      "metadata": {
        "id": "n_KegprEe7kj"
      },
      "source": [
        ""
      ],
      "execution_count": null,
      "outputs": []
    }
  ]
}